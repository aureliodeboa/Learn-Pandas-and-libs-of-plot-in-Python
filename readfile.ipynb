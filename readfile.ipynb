{
 "cells": [
  {
   "cell_type": "markdown",
   "metadata": {},
   "source": [
    "Import Libs\n"
   ]
  },
  {
   "cell_type": "code",
   "execution_count": 1,
   "metadata": {},
   "outputs": [],
   "source": [
    "import pandas as pd\n",
    "import numpy as np"
   ]
  },
  {
   "cell_type": "markdown",
   "metadata": {},
   "source": [
    "Lendo arquivos\n",
    "\n"
   ]
  },
  {
   "cell_type": "code",
   "execution_count": 2,
   "metadata": {},
   "outputs": [
    {
     "name": "stdout",
     "output_type": "stream",
     "text": [
      "   sepal_length  sepal_width  petal_length  petal_width      species\n",
      "0           5.1          3.5           1.4          0.2  Iris-setosa\n",
      "1           4.9          3.0           1.4          0.2  Iris-setosa\n",
      "2           4.7          3.2           1.3          0.2  Iris-setosa\n",
      "3           4.6          3.1           1.5          0.2  Iris-setosa\n",
      "4           5.0          3.6           1.4          0.2  Iris-setosa\n"
     ]
    }
   ],
   "source": [
    "filepath ='Iris_Data.csv'\n",
    "\n",
    "data= pd.read_csv(filepath)\n",
    "\n",
    "print(data.iloc[:5])"
   ]
  },
  {
   "cell_type": "markdown",
   "metadata": {},
   "source": [
    "Criando novas colunas no df\n"
   ]
  },
  {
   "cell_type": "code",
   "execution_count": 3,
   "metadata": {},
   "outputs": [
    {
     "name": "stdout",
     "output_type": "stream",
     "text": [
      "   petal_width      species  sepal_area\n",
      "0          0.2  Iris-setosa       17.85\n",
      "1          0.2  Iris-setosa       14.70\n",
      "2          0.2  Iris-setosa       15.04\n",
      "3          0.2  Iris-setosa       14.26\n",
      "4          0.2  Iris-setosa       18.00\n"
     ]
    }
   ],
   "source": [
    "data['sepal_area']=data.sepal_length*data.sepal_width\n",
    "print(data.iloc[:5,-3:])"
   ]
  },
  {
   "cell_type": "markdown",
   "metadata": {},
   "source": [
    "Aplicando uma função em uma coluna do DataFrame \n"
   ]
  },
  {
   "cell_type": "code",
   "execution_count": 4,
   "metadata": {},
   "outputs": [
    {
     "name": "stdout",
     "output_type": "stream",
     "text": [
      "       species  sepal_area  abbrev\n",
      "0  Iris-setosa       17.85  setosa\n",
      "1  Iris-setosa       14.70  setosa\n",
      "2  Iris-setosa       15.04  setosa\n",
      "3  Iris-setosa       14.26  setosa\n",
      "4  Iris-setosa       18.00  setosa\n"
     ]
    }
   ],
   "source": [
    "#função lambda aplicada a cada linha do data\n",
    "data['abbrev'] = (data.species.apply(lambda x: x.replace('Iris-','')))\n",
    "\n",
    "print(data.iloc[:5,-3:])"
   ]
  },
  {
   "cell_type": "markdown",
   "metadata": {},
   "source": [
    "Concatenando dois DataFrames"
   ]
  },
  {
   "cell_type": "markdown",
   "metadata": {},
   "source": []
  },
  {
   "cell_type": "code",
   "execution_count": 5,
   "metadata": {},
   "outputs": [
    {
     "name": "stdout",
     "output_type": "stream",
     "text": [
      "0         Iris-setosa\n",
      "1         Iris-setosa\n",
      "148    Iris-virginica\n",
      "149    Iris-virginica\n",
      "Name: species, dtype: object\n"
     ]
    }
   ],
   "source": [
    "small_data = pd.concat([data.iloc[:2], data.iloc[-2:]])\n",
    "print(small_data.iloc[:,-3])"
   ]
  },
  {
   "cell_type": "markdown",
   "metadata": {},
   "source": [
    "Agregando estatisticas com O GroupBy\n"
   ]
  },
  {
   "cell_type": "code",
   "execution_count": 6,
   "metadata": {},
   "outputs": [
    {
     "name": "stdout",
     "output_type": "stream",
     "text": [
      "species\n",
      "Iris-setosa        50\n",
      "Iris-versicolor    50\n",
      "Iris-virginica     50\n",
      "dtype: int64\n"
     ]
    }
   ],
   "source": [
    "group_sizes=(data.groupby('species').size())\n",
    "print(group_sizes)"
   ]
  },
  {
   "cell_type": "markdown",
   "metadata": {},
   "source": [
    "Calculando estatisticas\n"
   ]
  },
  {
   "cell_type": "code",
   "execution_count": 15,
   "metadata": {},
   "outputs": [
    {
     "name": "stdout",
     "output_type": "stream",
     "text": [
      "17.80653333333333\n",
      "4.35\n",
      "0    1.5\n",
      "Name: petal_length, dtype: float64\n"
     ]
    }
   ],
   "source": [
    "print(data['sepal_area'].mean()) # calcula a medias de area \n",
    "print(data.petal_length.median()) #calcula a mediana do tamanho\n",
    "print(data.petal_length.mode()) #cacula a moda do tamanho das petalas\n"
   ]
  },
  {
   "cell_type": "markdown",
   "metadata": {},
   "source": [
    "Desvio padrão, variância, SEM e quantis também podem ser calculados"
   ]
  },
  {
   "cell_type": "code",
   "execution_count": 19,
   "metadata": {},
   "outputs": [
    {
     "name": "stdout",
     "output_type": "stream",
     "text": [
      "1.7644204199522626 3.113179418344519 0.1440643240210085\n"
     ]
    }
   ],
   "source": [
    "print(data.petal_length.std(),\n",
    "      data.petal_length.var(),\n",
    "        data.petal_length.sem())\n",
    "#print(data.quantile(0))"
   ]
  },
  {
   "cell_type": "markdown",
   "metadata": {},
   "source": [
    "Performing Statistical Calculations\n",
    "Multiple calculations can be presented in a DataFrame"
   ]
  },
  {
   "cell_type": "code",
   "execution_count": 20,
   "metadata": {},
   "outputs": [
    {
     "name": "stdout",
     "output_type": "stream",
     "text": [
      "       sepal_length  sepal_width  petal_length  petal_width  sepal_area\n",
      "count    150.000000   150.000000    150.000000   150.000000  150.000000\n",
      "mean       5.843333     3.054000      3.758667     1.198667   17.806533\n",
      "std        0.828066     0.433594      1.764420     0.763161    3.368693\n",
      "min        4.300000     2.000000      1.000000     0.100000   10.000000\n",
      "25%        5.100000     2.800000      1.600000     0.300000   15.645000\n",
      "50%        5.800000     3.000000      4.350000     1.300000   17.660000\n",
      "75%        6.400000     3.300000      5.100000     1.800000   20.325000\n",
      "max        7.900000     4.400000      6.900000     2.500000   30.020000\n"
     ]
    }
   ],
   "source": [
    "print(data.describe())"
   ]
  },
  {
   "cell_type": "markdown",
   "metadata": {},
   "source": [
    "Amostragem de dataFrames DataFrames"
   ]
  },
  {
   "cell_type": "code",
   "execution_count": 21,
   "metadata": {},
   "outputs": [
    {
     "name": "stdout",
     "output_type": "stream",
     "text": [
      "     sepal_length  sepal_width  petal_length  petal_width          species  \\\n",
      "73            6.1          2.8           4.7          1.2  Iris-versicolor   \n",
      "18            5.7          3.8           1.7          0.3      Iris-setosa   \n",
      "118           7.7          2.6           6.9          2.3   Iris-virginica   \n",
      "78            6.0          2.9           4.5          1.5  Iris-versicolor   \n",
      "76            6.8          2.8           4.8          1.4  Iris-versicolor   \n",
      "\n",
      "     sepal_area      abbrev  \n",
      "73        17.08  versicolor  \n",
      "18        21.66      setosa  \n",
      "118       20.02   virginica  \n",
      "78        17.40  versicolor  \n",
      "76        19.04  versicolor  \n"
     ]
    }
   ],
   "source": [
    "sample = (data.sample(n=5,replace=False, random_state=42))\n",
    "print(sample)"
   ]
  }
 ],
 "metadata": {
  "kernelspec": {
   "display_name": "Python 3",
   "language": "python",
   "name": "python3"
  },
  "language_info": {
   "codemirror_mode": {
    "name": "ipython",
    "version": 3
   },
   "file_extension": ".py",
   "mimetype": "text/x-python",
   "name": "python",
   "nbconvert_exporter": "python",
   "pygments_lexer": "ipython3",
   "version": "3.10.9"
  }
 },
 "nbformat": 4,
 "nbformat_minor": 2
}
